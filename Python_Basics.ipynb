{
  "nbformat": 4,
  "nbformat_minor": 0,
  "metadata": {
    "colab": {
      "provenance": [],
      "authorship_tag": "ABX9TyPlzcgctCRexbPCElOVktIM",
      "include_colab_link": true
    },
    "kernelspec": {
      "name": "python3",
      "display_name": "Python 3"
    },
    "language_info": {
      "name": "python"
    }
  },
  "cells": [
    {
      "cell_type": "markdown",
      "metadata": {
        "id": "view-in-github",
        "colab_type": "text"
      },
      "source": [
        "<a href=\"https://colab.research.google.com/github/AnasShafiq/Machine-Learning/blob/main/Python_Basics.ipynb\" target=\"_parent\"><img src=\"https://colab.research.google.com/assets/colab-badge.svg\" alt=\"Open In Colab\"/></a>"
      ]
    },
    {
      "cell_type": "code",
      "execution_count": 1,
      "metadata": {
        "colab": {
          "base_uri": "https://localhost:8080/"
        },
        "id": "byYEMb0xqGc2",
        "outputId": "ed0061ef-83d7-4dec-8c51-afbfcfc1198d"
      },
      "outputs": [
        {
          "output_type": "stream",
          "name": "stdout",
          "text": [
            "Hello lets GO !!\n"
          ]
        }
      ],
      "source": [
        "print('Hello lets GO !!')"
      ]
    },
    {
      "cell_type": "markdown",
      "source": [
        "#Inputs"
      ],
      "metadata": {
        "id": "7WJl7V1V8IBJ"
      }
    },
    {
      "cell_type": "code",
      "source": [
        "number1 = int(input('Input the first Number = :'))\n",
        "number2 = int(input('Enter the second number'))\n",
        "\n",
        "Sum = number1 + number2\n",
        "print(Sum)"
      ],
      "metadata": {
        "colab": {
          "base_uri": "https://localhost:8080/"
        },
        "id": "pZNUNZk64Vp6",
        "outputId": "b633c5a6-bcfb-4140-b4b6-f7bf3d17b13a"
      },
      "execution_count": 5,
      "outputs": [
        {
          "output_type": "stream",
          "name": "stdout",
          "text": [
            "Input the first Number = :3\n",
            "Enter the second number3\n",
            "6\n"
          ]
        }
      ]
    },
    {
      "cell_type": "markdown",
      "source": [
        "#IF ELSE Statements\n"
      ],
      "metadata": {
        "id": "vfwR_PciGCeq"
      }
    },
    {
      "cell_type": "code",
      "source": [
        "#Basic IF Else statement\n",
        "a = int(input('Enter the first Number ='))\n",
        "b = int(input('Enter the second Number ='))\n",
        "c = int(input('Enter the third Number ='))\n",
        "if (a<b):\n",
        "  print('A is the greater Number')\n",
        "else:\n",
        "  print('B is the greater Number')\n",
        "\n",
        "# IF ELIF ELSE case:\n",
        "\n",
        "\n",
        "if (b<a>c):\n",
        "  print('A is the greatest Number')\n",
        "elif (a<b>c):\n",
        "  print('B is the greatest Number')\n",
        "else:\n",
        "  print('C is the greatest Number')\n",
        "\n",
        "#Nested IF Statement\n",
        "\n",
        "if (a>b):\n",
        "  if (a>c):\n",
        "    print('A is the greatest number')\n",
        "  else:\n",
        "    print('C is the greatest Number')"
      ],
      "metadata": {
        "colab": {
          "base_uri": "https://localhost:8080/"
        },
        "id": "JPZ7E_b_AVlD",
        "outputId": "3dac68a7-6893-41d2-ce77-92113a483da0"
      },
      "execution_count": 18,
      "outputs": [
        {
          "output_type": "stream",
          "name": "stdout",
          "text": [
            "Enter the first Number =44\n",
            "Enter the second Number =2\n",
            "Enter the third Number =31\n",
            "B is the greater Number\n",
            "A is the greatest Number\n",
            "A is the greatest number\n"
          ]
        }
      ]
    },
    {
      "cell_type": "markdown",
      "source": [
        "# LOOPS"
      ],
      "metadata": {
        "id": "ZU7P8d6BJafv"
      }
    },
    {
      "cell_type": "code",
      "source": [
        "# for Loop\n",
        "for i in range(5):\n",
        "  phone_price = int(input('Enter the price of the phones'))\n",
        "# another example with list\n",
        "numbers = [1,2,3,4,5,6,7]\n",
        "for i in numbers:\n",
        "  print(i)\n",
        "\n",
        "# While Loops\n",
        "a = int(input('Enter the amount you want your message to print for = '))\n",
        "b = input('Enter the message the you want to print = ')\n",
        "while a<0 :\n",
        "  print(b)\n",
        "  a+=1"
      ],
      "metadata": {
        "colab": {
          "base_uri": "https://localhost:8080/"
        },
        "id": "QFMmTizSJeBp",
        "outputId": "2635239c-4207-46c6-80ea-8f377edb8bf7"
      },
      "execution_count": 26,
      "outputs": [
        {
          "name": "stdout",
          "output_type": "stream",
          "text": [
            "Enter the price of the phones4\n",
            "Enter the price of the phones4\n",
            "Enter the price of the phones4\n",
            "Enter the price of the phones4\n",
            "Enter the price of the phones4\n",
            "1\n",
            "2\n",
            "3\n",
            "4\n",
            "5\n",
            "6\n",
            "7\n",
            "Enter the amount you want your message to print for = 10\n",
            "Enter the message the you want to print = HELLO THERE\n"
          ]
        }
      ]
    },
    {
      "cell_type": "code",
      "source": [
        "# While Loops\n",
        "a = int(input('Enter the amount you want your message to print for = '))\n",
        "b = input('Enter the message the you want to print = ')\n",
        "while a<=0 :\n",
        "  print(b)\n",
        "  a +=1\n",
        "else:\n",
        "  print('Input value was less than 0')"
      ],
      "metadata": {
        "colab": {
          "base_uri": "https://localhost:8080/"
        },
        "id": "C2nKuW62J4PT",
        "outputId": "23966dc5-64b3-474b-bd61-91646a1174c1"
      },
      "execution_count": 35,
      "outputs": [
        {
          "output_type": "stream",
          "name": "stdout",
          "text": [
            "Enter the amount you want your message to print for = 5\n",
            "Enter the message the you want to print = Na\n",
            "Input value was less than 0\n"
          ]
        }
      ]
    },
    {
      "cell_type": "markdown",
      "source": [
        "#Functions"
      ],
      "metadata": {
        "id": "r3nwMzPBPcRz"
      }
    },
    {
      "cell_type": "code",
      "source": [
        "\n",
        "def factorial_value(num):\n",
        "\n",
        "  factorial = 1\n",
        "\n",
        "  if num == 0:\n",
        "    return factorial\n",
        "\n",
        "  else:\n",
        "    for i in range(1, num+1):\n",
        "      factorial = factorial*i\n",
        "    return factorial\n",
        ""
      ],
      "metadata": {
        "id": "mw62_mMjkwY2"
      },
      "execution_count": 6,
      "outputs": []
    },
    {
      "cell_type": "code",
      "source": [
        "print(factorial_value(4))"
      ],
      "metadata": {
        "colab": {
          "base_uri": "https://localhost:8080/"
        },
        "id": "K_iMQ-p9lMtB",
        "outputId": "ad476c29-d380-4408-a31f-db3b443b8d46"
      },
      "execution_count": 7,
      "outputs": [
        {
          "output_type": "stream",
          "name": "stdout",
          "text": [
            "24\n"
          ]
        }
      ]
    },
    {
      "cell_type": "markdown",
      "source": [
        "#Numpy"
      ],
      "metadata": {
        "id": "W_cnD19LnE08"
      }
    },
    {
      "cell_type": "code",
      "source": [
        "import numpy as np\n",
        "# Numpy arrays\n",
        "list1 = np.array([1,2,3,4,5])\n",
        "type(list1)\n",
        "#cheking the dimention of the array\n",
        "list1.shape\n",
        "#making a 2 dimentional array\n",
        "a = np.array([[1,2,3,4],[5,6,7,8]])\n",
        "a.shape\n",
        "#Initial Placeholders in numpay arrays\n",
        "x = np.zeros((2,2)) #prints an array of all 0\n",
        "print(x)\n",
        "y  = np.ones((3,3)) # prints an array of all 1\n",
        "print(y)\n",
        "z = np.full((3,2),2) #prints an array of any specific numbers\n",
        "print(z)\n",
        "i = np.eye(4)# prints an identity matrix\n",
        "print(i)\n",
        "b = np.random.random ((3,4)) #creats an array of random values between 0 and 1\n",
        "print(b)\n",
        "r= np.random.randint(10,1000,(3,4))# creats an array of random integers\n",
        "print(r)\n",
        "\n",
        "#Converting lists to np.array\n",
        "list1 = [1,2,3,4,5,6]\n",
        "NP = np.asarray(list1)\n",
        "NP\n",
        "type(NP)"
      ],
      "metadata": {
        "colab": {
          "base_uri": "https://localhost:8080/"
        },
        "id": "pr2cV5JJlS5V",
        "outputId": "3860518c-3175-4d56-d60b-544a0deb6d29"
      },
      "execution_count": 30,
      "outputs": [
        {
          "output_type": "stream",
          "name": "stdout",
          "text": [
            "[[0. 0.]\n",
            " [0. 0.]]\n",
            "[[1. 1. 1.]\n",
            " [1. 1. 1.]\n",
            " [1. 1. 1.]]\n",
            "[[2 2]\n",
            " [2 2]\n",
            " [2 2]]\n",
            "[[1. 0. 0. 0.]\n",
            " [0. 1. 0. 0.]\n",
            " [0. 0. 1. 0.]\n",
            " [0. 0. 0. 1.]]\n",
            "[[0.99301261 0.72269646 0.26078971 0.95618511]\n",
            " [0.19703816 0.47925657 0.98182354 0.53746392]\n",
            " [0.70759729 0.84024567 0.86945072 0.33000192]]\n",
            "[[ 85 139 426 215]\n",
            " [511 334 284  72]\n",
            " [447 744 589 348]]\n"
          ]
        },
        {
          "output_type": "execute_result",
          "data": {
            "text/plain": [
              "numpy.ndarray"
            ]
          },
          "metadata": {},
          "execution_count": 30
        }
      ]
    },
    {
      "cell_type": "markdown",
      "source": [
        "Analysing an array"
      ],
      "metadata": {
        "id": "0TnMupUru4Gp"
      }
    },
    {
      "cell_type": "code",
      "source": [
        "arr = np.random.randint(10,99,(5,5))\n",
        "print(arr)\n",
        "print(type(arr))\n",
        "print(arr.shape)\n",
        "print(arr.ndim)\n",
        "print(arr.size)\n"
      ],
      "metadata": {
        "colab": {
          "base_uri": "https://localhost:8080/"
        },
        "id": "a9xMV_Bwo2IP",
        "outputId": "95f18aff-93f5-44b0-ab6d-76a62e68c008"
      },
      "execution_count": 33,
      "outputs": [
        {
          "output_type": "stream",
          "name": "stdout",
          "text": [
            "[[19 72 63 70 43]\n",
            " [90 13 23 80 19]\n",
            " [73 81 80 64 63]\n",
            " [60 31 35 63 39]\n",
            " [97 79 37 64 97]]\n",
            "<class 'numpy.ndarray'>\n",
            "(5, 5)\n",
            "2\n",
            "25\n"
          ]
        }
      ]
    },
    {
      "cell_type": "markdown",
      "source": [
        "Mathematical Operations on an array"
      ],
      "metadata": {
        "id": "ksV6EigfvmBH"
      }
    },
    {
      "cell_type": "code",
      "source": [
        "a = np.random.randint(10,100,(3,3))\n",
        "b = np.random.randint(10,99,(3,3))\n",
        "print(a)\n",
        "print(b)\n",
        "#Simple way\n",
        "print(a+b)\n",
        "print(a-b)\n",
        "print(a/b)\n",
        "print(a*b)\n",
        "print(np.add(a,b))\n",
        "print(np.subtract(a,b))"
      ],
      "metadata": {
        "colab": {
          "base_uri": "https://localhost:8080/"
        },
        "id": "-R795fJnvGqq",
        "outputId": "d1fac8b2-dcb2-4290-d9fe-078c17ef6071"
      },
      "execution_count": 36,
      "outputs": [
        {
          "output_type": "stream",
          "name": "stdout",
          "text": [
            "[[59 93 39]\n",
            " [32 68 32]\n",
            " [47 28 18]]\n",
            "[[93 46 79]\n",
            " [12 64 10]\n",
            " [25 82 66]]\n",
            "[[152 139 118]\n",
            " [ 44 132  42]\n",
            " [ 72 110  84]]\n",
            "[[-34  47 -40]\n",
            " [ 20   4  22]\n",
            " [ 22 -54 -48]]\n",
            "[[0.6344086  2.02173913 0.49367089]\n",
            " [2.66666667 1.0625     3.2       ]\n",
            " [1.88       0.34146341 0.27272727]]\n",
            "[[5487 4278 3081]\n",
            " [ 384 4352  320]\n",
            " [1175 2296 1188]]\n",
            "[[152 139 118]\n",
            " [ 44 132  42]\n",
            " [ 72 110  84]]\n",
            "[[-34  47 -40]\n",
            " [ 20   4  22]\n",
            " [ 22 -54 -48]]\n"
          ]
        }
      ]
    },
    {
      "cell_type": "markdown",
      "source": [
        "Array Manipulation"
      ],
      "metadata": {
        "id": "MUwgnmtYwvWJ"
      }
    },
    {
      "cell_type": "code",
      "source": [
        "#simple methord\n",
        "print (a)\n",
        "at = np.transpose(a)\n",
        "print(at)\n",
        "#short Methord\n",
        "a.T"
      ],
      "metadata": {
        "colab": {
          "base_uri": "https://localhost:8080/"
        },
        "id": "FHoU9SdLwzC1",
        "outputId": "866be7d9-1386-475b-cec4-1a41403d8078"
      },
      "execution_count": 40,
      "outputs": [
        {
          "output_type": "stream",
          "name": "stdout",
          "text": [
            "[[59 93 39]\n",
            " [32 68 32]\n",
            " [47 28 18]]\n",
            "[[59 32 47]\n",
            " [93 68 28]\n",
            " [39 32 18]]\n"
          ]
        },
        {
          "output_type": "execute_result",
          "data": {
            "text/plain": [
              "array([[59, 32, 47],\n",
              "       [93, 68, 28],\n",
              "       [39, 32, 18]])"
            ]
          },
          "metadata": {},
          "execution_count": 40
        }
      ]
    },
    {
      "cell_type": "markdown",
      "source": [
        "#Pandas in Python\n",
        "used for data processing and analysis"
      ],
      "metadata": {
        "id": "nk2ElVCuxzQ7"
      }
    },
    {
      "cell_type": "code",
      "source": [
        "import pandas as pd\n",
        "# Creating a Pandas DataFrame\n",
        "from sklearn.datasets import fetch_california_housing # imported dataset from SKLearn\n",
        "housing = fetch_california_housing()\n",
        "print(housing)\n",
        "cali_df = pd.DataFrame(housing.data,columns = housing.target_names)"
      ],
      "metadata": {
        "colab": {
          "base_uri": "https://localhost:8080/",
          "height": 622
        },
        "id": "AW0VW1v3wOG7",
        "outputId": "469d3db2-0dc1-45fe-fd03-933e783e2f02"
      },
      "execution_count": 49,
      "outputs": [
        {
          "output_type": "stream",
          "name": "stdout",
          "text": [
            "{'data': array([[   8.3252    ,   41.        ,    6.98412698, ...,    2.55555556,\n",
            "          37.88      , -122.23      ],\n",
            "       [   8.3014    ,   21.        ,    6.23813708, ...,    2.10984183,\n",
            "          37.86      , -122.22      ],\n",
            "       [   7.2574    ,   52.        ,    8.28813559, ...,    2.80225989,\n",
            "          37.85      , -122.24      ],\n",
            "       ...,\n",
            "       [   1.7       ,   17.        ,    5.20554273, ...,    2.3256351 ,\n",
            "          39.43      , -121.22      ],\n",
            "       [   1.8672    ,   18.        ,    5.32951289, ...,    2.12320917,\n",
            "          39.43      , -121.32      ],\n",
            "       [   2.3886    ,   16.        ,    5.25471698, ...,    2.61698113,\n",
            "          39.37      , -121.24      ]]), 'target': array([4.526, 3.585, 3.521, ..., 0.923, 0.847, 0.894]), 'frame': None, 'target_names': ['MedHouseVal'], 'feature_names': ['MedInc', 'HouseAge', 'AveRooms', 'AveBedrms', 'Population', 'AveOccup', 'Latitude', 'Longitude'], 'DESCR': '.. _california_housing_dataset:\\n\\nCalifornia Housing dataset\\n--------------------------\\n\\n**Data Set Characteristics:**\\n\\n    :Number of Instances: 20640\\n\\n    :Number of Attributes: 8 numeric, predictive attributes and the target\\n\\n    :Attribute Information:\\n        - MedInc        median income in block group\\n        - HouseAge      median house age in block group\\n        - AveRooms      average number of rooms per household\\n        - AveBedrms     average number of bedrooms per household\\n        - Population    block group population\\n        - AveOccup      average number of household members\\n        - Latitude      block group latitude\\n        - Longitude     block group longitude\\n\\n    :Missing Attribute Values: None\\n\\nThis dataset was obtained from the StatLib repository.\\nhttps://www.dcc.fc.up.pt/~ltorgo/Regression/cal_housing.html\\n\\nThe target variable is the median house value for California districts,\\nexpressed in hundreds of thousands of dollars ($100,000).\\n\\nThis dataset was derived from the 1990 U.S. census, using one row per census\\nblock group. A block group is the smallest geographical unit for which the U.S.\\nCensus Bureau publishes sample data (a block group typically has a population\\nof 600 to 3,000 people).\\n\\nA household is a group of people residing within a home. Since the average\\nnumber of rooms and bedrooms in this dataset are provided per household, these\\ncolumns may take surprisingly large values for block groups with few households\\nand many empty houses, such as vacation resorts.\\n\\nIt can be downloaded/loaded using the\\n:func:`sklearn.datasets.fetch_california_housing` function.\\n\\n.. topic:: References\\n\\n    - Pace, R. Kelley and Ronald Barry, Sparse Spatial Autoregressions,\\n      Statistics and Probability Letters, 33 (1997) 291-297\\n'}\n"
          ]
        },
        {
          "output_type": "error",
          "ename": "ValueError",
          "evalue": "ignored",
          "traceback": [
            "\u001b[0;31m---------------------------------------------------------------------------\u001b[0m",
            "\u001b[0;31mValueError\u001b[0m                                Traceback (most recent call last)",
            "\u001b[0;32m<ipython-input-49-4ace4977d12a>\u001b[0m in \u001b[0;36m<cell line: 6>\u001b[0;34m()\u001b[0m\n\u001b[1;32m      4\u001b[0m \u001b[0mhousing\u001b[0m \u001b[0;34m=\u001b[0m \u001b[0mfetch_california_housing\u001b[0m\u001b[0;34m(\u001b[0m\u001b[0;34m)\u001b[0m\u001b[0;34m\u001b[0m\u001b[0;34m\u001b[0m\u001b[0m\n\u001b[1;32m      5\u001b[0m \u001b[0mprint\u001b[0m\u001b[0;34m(\u001b[0m\u001b[0mhousing\u001b[0m\u001b[0;34m)\u001b[0m\u001b[0;34m\u001b[0m\u001b[0;34m\u001b[0m\u001b[0m\n\u001b[0;32m----> 6\u001b[0;31m \u001b[0mcali_df\u001b[0m \u001b[0;34m=\u001b[0m \u001b[0mpd\u001b[0m\u001b[0;34m.\u001b[0m\u001b[0mDataFrame\u001b[0m\u001b[0;34m(\u001b[0m\u001b[0mhousing\u001b[0m\u001b[0;34m.\u001b[0m\u001b[0mdata\u001b[0m\u001b[0;34m,\u001b[0m\u001b[0mcolumns\u001b[0m \u001b[0;34m=\u001b[0m \u001b[0mhousing\u001b[0m\u001b[0;34m.\u001b[0m\u001b[0mtarget_names\u001b[0m\u001b[0;34m)\u001b[0m\u001b[0;34m\u001b[0m\u001b[0;34m\u001b[0m\u001b[0m\n\u001b[0m",
            "\u001b[0;32m/usr/local/lib/python3.10/dist-packages/pandas/core/frame.py\u001b[0m in \u001b[0;36m__init__\u001b[0;34m(self, data, index, columns, dtype, copy)\u001b[0m\n\u001b[1;32m    720\u001b[0m                 )\n\u001b[1;32m    721\u001b[0m             \u001b[0;32melse\u001b[0m\u001b[0;34m:\u001b[0m\u001b[0;34m\u001b[0m\u001b[0;34m\u001b[0m\u001b[0m\n\u001b[0;32m--> 722\u001b[0;31m                 mgr = ndarray_to_mgr(\n\u001b[0m\u001b[1;32m    723\u001b[0m                     \u001b[0mdata\u001b[0m\u001b[0;34m,\u001b[0m\u001b[0;34m\u001b[0m\u001b[0;34m\u001b[0m\u001b[0m\n\u001b[1;32m    724\u001b[0m                     \u001b[0mindex\u001b[0m\u001b[0;34m,\u001b[0m\u001b[0;34m\u001b[0m\u001b[0;34m\u001b[0m\u001b[0m\n",
            "\u001b[0;32m/usr/local/lib/python3.10/dist-packages/pandas/core/internals/construction.py\u001b[0m in \u001b[0;36mndarray_to_mgr\u001b[0;34m(values, index, columns, dtype, copy, typ)\u001b[0m\n\u001b[1;32m    347\u001b[0m     )\n\u001b[1;32m    348\u001b[0m \u001b[0;34m\u001b[0m\u001b[0m\n\u001b[0;32m--> 349\u001b[0;31m     \u001b[0m_check_values_indices_shape_match\u001b[0m\u001b[0;34m(\u001b[0m\u001b[0mvalues\u001b[0m\u001b[0;34m,\u001b[0m \u001b[0mindex\u001b[0m\u001b[0;34m,\u001b[0m \u001b[0mcolumns\u001b[0m\u001b[0;34m)\u001b[0m\u001b[0;34m\u001b[0m\u001b[0;34m\u001b[0m\u001b[0m\n\u001b[0m\u001b[1;32m    350\u001b[0m \u001b[0;34m\u001b[0m\u001b[0m\n\u001b[1;32m    351\u001b[0m     \u001b[0;32mif\u001b[0m \u001b[0mtyp\u001b[0m \u001b[0;34m==\u001b[0m \u001b[0;34m\"array\"\u001b[0m\u001b[0;34m:\u001b[0m\u001b[0;34m\u001b[0m\u001b[0;34m\u001b[0m\u001b[0m\n",
            "\u001b[0;32m/usr/local/lib/python3.10/dist-packages/pandas/core/internals/construction.py\u001b[0m in \u001b[0;36m_check_values_indices_shape_match\u001b[0;34m(values, index, columns)\u001b[0m\n\u001b[1;32m    418\u001b[0m         \u001b[0mpassed\u001b[0m \u001b[0;34m=\u001b[0m \u001b[0mvalues\u001b[0m\u001b[0;34m.\u001b[0m\u001b[0mshape\u001b[0m\u001b[0;34m\u001b[0m\u001b[0;34m\u001b[0m\u001b[0m\n\u001b[1;32m    419\u001b[0m         \u001b[0mimplied\u001b[0m \u001b[0;34m=\u001b[0m \u001b[0;34m(\u001b[0m\u001b[0mlen\u001b[0m\u001b[0;34m(\u001b[0m\u001b[0mindex\u001b[0m\u001b[0;34m)\u001b[0m\u001b[0;34m,\u001b[0m \u001b[0mlen\u001b[0m\u001b[0;34m(\u001b[0m\u001b[0mcolumns\u001b[0m\u001b[0;34m)\u001b[0m\u001b[0;34m)\u001b[0m\u001b[0;34m\u001b[0m\u001b[0;34m\u001b[0m\u001b[0m\n\u001b[0;32m--> 420\u001b[0;31m         \u001b[0;32mraise\u001b[0m \u001b[0mValueError\u001b[0m\u001b[0;34m(\u001b[0m\u001b[0;34mf\"Shape of passed values is {passed}, indices imply {implied}\"\u001b[0m\u001b[0;34m)\u001b[0m\u001b[0;34m\u001b[0m\u001b[0;34m\u001b[0m\u001b[0m\n\u001b[0m\u001b[1;32m    421\u001b[0m \u001b[0;34m\u001b[0m\u001b[0m\n\u001b[1;32m    422\u001b[0m \u001b[0;34m\u001b[0m\u001b[0m\n",
            "\u001b[0;31mValueError\u001b[0m: Shape of passed values is (20640, 8), indices imply (20640, 1)"
          ]
        }
      ]
    },
    {
      "cell_type": "code",
      "source": [],
      "metadata": {
        "id": "sF2wZPPcyZHs"
      },
      "execution_count": null,
      "outputs": []
    }
  ]
}